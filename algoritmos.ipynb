{
 "cells": [
  {
   "cell_type": "code",
   "execution_count": 3,
   "metadata": {},
   "outputs": [
    {
     "name": "stdout",
     "output_type": "stream",
     "text": [
      "(1, 30, 40, 50)\n",
      "('maria', 'jose', 'ana')\n",
      "()\n",
      "(0,)\n",
      "('t', 'e', 's', 't', 'e')\n"
     ]
    }
   ],
   "source": [
    "#Exemplos de Tuplas\n",
    "tupla1 = (1, 30,  40,  50) #cria uma tupla com 4 elementos inteiros\n",
    "tupla2 = ('maria', 'jose', 'ana') #cria uma tupla com 3 elementos strings\n",
    "tupla3 = () #cria uma tupla vazia\n",
    "tupla4 = (0,) #cria uma tupla com único elemento\n",
    "tupla5 = tuple('teste') #cria uma tupla, onde cada letra se torna um elemento da lista\n",
    "print(tupla1)\n",
    "print(tupla2)\n",
    "print(tupla3)\n",
    "print(tupla4)\n",
    "print(tupla5)"
   ]
  }
 ],
 "metadata": {
  "kernelspec": {
   "display_name": "Python 3",
   "language": "python",
   "name": "python3"
  },
  "language_info": {
   "codemirror_mode": {
    "name": "ipython",
    "version": 3
   },
   "file_extension": ".py",
   "mimetype": "text/x-python",
   "name": "python",
   "nbconvert_exporter": "python",
   "pygments_lexer": "ipython3",
   "version": "3.10.8"
  }
 },
 "nbformat": 4,
 "nbformat_minor": 2
}
